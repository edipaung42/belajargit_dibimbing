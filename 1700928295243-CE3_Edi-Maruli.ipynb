{
 "cells": [
  {
   "cell_type": "markdown",
   "metadata": {
    "id": "hhIQeEv4JdpK"
   },
   "source": [
    "## Selamat datang di Tantangan Coding Minggu ke-3!\n",
    "### Tema minggu ini adalah: String!\n",
    "\n",
    "Mulai minggu ini, metode inisialisasi fungsi tidak akan diberikan. Anda harus mencari tahu sendiri. Keep up the good work!\n",
    "\n",
    "Anda hanya perlu **menyelesaikan 2 pertanyaan**!"
   ]
  },
  {
   "cell_type": "markdown",
   "metadata": {
    "id": "ZwHc-3vSJdpj"
   },
   "source": [
    "###**Problem 1: Temukan jumlah substring.**"
   ]
  },
  {
   "cell_type": "markdown",
   "metadata": {
    "id": "_rD65MuvJdpm"
   },
   "source": [
    "Buatlah fungsi yang bernama ```substring_count``` yang dapat melakukan:\n",
    "\n",
    "Diberikan string dan substring. Hitung berapa kali substring muncul di string. Input pertama selalu berupa string (yang lebih panjang), dan input kedua selalu berupa substring (yang lebih pendek).\n",
    "\n",
    "##### Example 1:\n",
    "\n",
    "Input:\n",
    "\n",
    "string = 'ABCDCDC'\n",
    "\n",
    "substring = 'CD'\n",
    "\n",
    "Berapa kali 'CD' muncul di 'ABCDCDC'?\n",
    "2 kali! Jadi saat kita menjalankan ```substring_count('ABCDCDC', 'CD')``` hasilnya akan menjadi '2'.\n",
    "\n",
    "Output: 2\n",
    "\n",
    "##### Example 2:\n",
    "\n",
    "String:\n",
    "\n",
    "string = 'ABCDCDC'\n",
    "\n",
    "substring = 'CDC'\n",
    "\n",
    "Berapa kali 'CDC' muncul di 'ABCDCDC'?\n",
    "2 kali! Ya, itu bisa tumpang tindih. AB**CDC**DC, dan ABCD**CDC**. Jadi, saat kita menjalankan ```substring_count('ABCDCDC', 'CDC')``` hasilnya akan '2'.\n",
    "\n",
    "Output: 2\n",
    "\n",
    "##### Example 3:\n",
    "\n",
    "string = 'DEDFDEDEDEG'\n",
    "\n",
    "substring = 'DED'\n",
    "\n",
    "3 kali! Pertama: **DED**FDEDEDEG. Kedua: DEDF**DED**EDEG. Ketiga: DEDFDE**DED**EG.\n",
    "\n",
    "Output: 3"
   ]
  },
  {
   "cell_type": "code",
   "execution_count": null,
   "metadata": {},
   "outputs": [],
   "source": [
    "def substring_count(string, substring):"
   ]
  },
  {
   "cell_type": "code",
   "execution_count": 22,
   "metadata": {
    "id": "-dQgvKqmJdpp"
   },
   "outputs": [],
   "source": [
    "### Write your solution here ###\n",
    "def substring_count(string, substring):\n",
    "    count = 0\n",
    "    start_index = 0\n",
    "    \n",
    "    while start_index < len(string):\n",
    "        index = string.find(substring, start_index)\n",
    "        if index != -1:\n",
    "            count += 1\n",
    "            start_index = index + 1\n",
    "        else:\n",
    "            break\n",
    "    \n",
    "    return count\n"
   ]
  },
  {
   "cell_type": "code",
   "execution_count": 23,
   "metadata": {},
   "outputs": [
    {
     "data": {
      "text/plain": [
       "2"
      ]
     },
     "execution_count": 23,
     "metadata": {},
     "output_type": "execute_result"
    }
   ],
   "source": [
    "## Example 1\n",
    "string = 'ABCDCDC'\n",
    "substring = 'CD'\n",
    "substring_count(string, substring)"
   ]
  },
  {
   "cell_type": "code",
   "execution_count": 24,
   "metadata": {},
   "outputs": [
    {
     "data": {
      "text/plain": [
       "2"
      ]
     },
     "execution_count": 24,
     "metadata": {},
     "output_type": "execute_result"
    }
   ],
   "source": [
    "## Example 2\n",
    "string = 'ABCDCDC'\n",
    "substring = 'CDC'\n",
    "substring_count('ABCDCDC', 'CDC')"
   ]
  },
  {
   "cell_type": "code",
   "execution_count": 25,
   "metadata": {},
   "outputs": [
    {
     "data": {
      "text/plain": [
       "3"
      ]
     },
     "execution_count": 25,
     "metadata": {},
     "output_type": "execute_result"
    }
   ],
   "source": [
    "# Example 3\n",
    "string = 'DEDFDEDEDEG'\n",
    "substring = 'DED'\n",
    "substring_count('DEDFDEDEDEG', 'DED')"
   ]
  },
  {
   "cell_type": "markdown",
   "metadata": {
    "id": "kPc42YPuJdpw"
   },
   "source": [
    "###**Problem 2: Berapa banyak huruf berbeda yang ada di string?**"
   ]
  },
  {
   "cell_type": "markdown",
   "metadata": {
    "id": "YtkU_gLYJdpx"
   },
   "source": [
    "Buat fungsi yang bernama ```diff_letters``` yang menghitung jumlah huruf yang berbeda yang terdapat pada string\n",
    "\n",
    "Input hanya berupa string tunggal.\n",
    "\n",
    "##### Example 1:\n",
    "\n",
    "Input: 'AAAAAAAAAB'\n",
    "\n",
    "Karena hanya ada 2 huruf berbeda dalam string input, keluarannya adalah 2.\n",
    "\n",
    "Saat kita menjalankan ```diff_letters```, outputnya adalah '2'.\n",
    "\n",
    "Output: 2\n",
    "\n",
    "##### Example 2:\n",
    "\n",
    "Input: 'ABCDAAAABBCCCE'\n",
    "\n",
    "Karena ada 5 huruf berbeda dalam string itu (A, B, C, D, E), hasilnya adalah 5.\n",
    "\n",
    "Output: 5"
   ]
  },
  {
   "cell_type": "code",
   "execution_count": 46,
   "metadata": {},
   "outputs": [],
   "source": [
    "def diff_letters(string):\n",
    "    jumlah_huruf_berbeda = 0\n",
    "    huruf_yang_sudah_ditemui = []\n",
    "\n",
    "    for huruf in string:\n",
    "        if huruf not in huruf_yang_sudah_ditemui:\n",
    "            jumlah_huruf_berbeda += 1\n",
    "            huruf_yang_sudah_ditemui.append(huruf)\n",
    "\n",
    "    return jumlah_huruf_berbeda\n"
   ]
  },
  {
   "cell_type": "code",
   "execution_count": 49,
   "metadata": {},
   "outputs": [
    {
     "data": {
      "text/plain": [
       "2"
      ]
     },
     "execution_count": 49,
     "metadata": {},
     "output_type": "execute_result"
    }
   ],
   "source": [
    "string = 'AAAAAAAAAB'\n",
    "diff_letters(string)"
   ]
  },
  {
   "cell_type": "code",
   "execution_count": 50,
   "metadata": {},
   "outputs": [
    {
     "data": {
      "text/plain": [
       "5"
      ]
     },
     "execution_count": 50,
     "metadata": {},
     "output_type": "execute_result"
    }
   ],
   "source": [
    "string= 'ABCDAAAABBCCCE'\n",
    "diff_letters(string)"
   ]
  },
  {
   "cell_type": "markdown",
   "metadata": {
    "id": "fiXI1RgZJdp3"
   },
   "source": [
    "Problem 3: Temukan Jarak Antara Dua Koordinat - Medium"
   ]
  },
  {
   "cell_type": "markdown",
   "metadata": {
    "id": "TZx_zMmbJdp3"
   },
   "source": [
    "Buatlah fungsi yang bernama ```distance``` yang dapat melakukan:\n",
    "\n",
    "Diberikan dua koordinat dalam list. Tugas Anda adalah menghitung jarak antara kedua koordinat tersebut. Input dari fungsi Anda akan berupa string. Koordinat yang muncul pertama adalah koordinat pertama, dan koordinat yang muncul setelah koma adalah koordinat kedua.\n",
    "\n",
    "##### Example 1:\n",
    "\n",
    "Input:\n",
    "\n",
    "'(5,5), (1,2)'\n",
    "\n",
    "Artinya, koordinat titik pertama adalah (5,5), koordinat titik kedua adalah (1,2). Untuk menghitung jarak antara dua titik ini, kami menggunakan rumus jarak euclidean biasa yang dapat dibaca di link berikut: https://wikimedia.org/api/rest_v1/media/math/render/svg/2e0c9ce1b3455cb9e92c6bad6684dbda02f69c82.\n",
    "\n",
    "Jaraknya adalah:\n",
    "\n",
    "Akar kuadrat dari ((5-1)^2 + (5-2)^2) = Akar kuadrat dari (16 + 9) = Akar kuadrat dari (25) = 5.\n",
    "\n",
    "Output: 'Jaraknya adalah 5'\n",
    "\n",
    "Jadi, saat kita menjalankan ```distance('(5,5),(1,2)')``` Outputnya adalah 'Jaraknya adalah 5'.\n",
    "\n",
    "##### Example 2:\n",
    "\n",
    "Input:\n",
    "\n",
    "'(0,-1), (-3,2)'\n",
    "\n",
    "TKoordinat pertama adalah (0,-1), koordinat kedua adalah (-3,2). Jarak antara mereka adalah:\n",
    "\n",
    "Akar kuadrat dari ((0- -3)^2 + (-1-2)^2) = Akar kuadrat dari (9 + 9) = Akar kuadrat dari (18) = 4,242640687\n",
    "\n",
    "Output: 'Jaraknya adalah 4.242640687'\n",
    "\n",
    "Jadi, saat kita menjalankan ```distance('(0,-1),(-3,2)')``` Outputnya adalah 'Jaraknya adalah 4.242640487'\n",
    "\n",
    "##### FAQ:\n",
    "\n",
    "- Question: \"Desimalnya dibuletin ga?\"\n",
    "- Answer: \"Ga usah peduliin format output desimalnya. Mau keluar berapa angka di belakang koma gpp kok. Yang penting value nya bener.\"\n",
    "- Question: \"Lha bedanya apa sama soal week 2?\"\n",
    "- Answer: \"Bedanya kali ini inputnya cuma 1, dan dia berupa teks (string), bukan list kyk minggu lalu. Semangat!\""
   ]
  },
  {
   "cell_type": "code",
   "execution_count": null,
   "metadata": {
    "id": "qcACpDdPJdp8"
   },
   "outputs": [],
   "source": [
    "### Example\n",
    "a = '(5,5), (1,2)'\n",
    "\n",
    "distance(a)\n",
    "\n",
    "# when you run this cell, it is expected that the output will be:\n",
    "# 'The distance is 5'"
   ]
  },
  {
   "cell_type": "code",
   "execution_count": null,
   "metadata": {
    "id": "_z7gXtaTJdp9"
   },
   "outputs": [],
   "source": [
    "def distance(string):\n",
    "  #Write your code here\n"
   ]
  },
  {
   "cell_type": "code",
   "execution_count": null,
   "metadata": {
    "colab": {
     "base_uri": "https://localhost:8080/",
     "height": 175
    },
    "executionInfo": {
     "elapsed": 9,
     "status": "error",
     "timestamp": 1693820335530,
     "user": {
      "displayName": "intern ds",
      "userId": "01515883600503928621"
     },
     "user_tz": -420
    },
    "id": "MT6iH_F4Jdp_",
    "outputId": "d8c9a563-5002-491f-947c-1194e2bb39cc"
   },
   "outputs": [
    {
     "ename": "NameError",
     "evalue": "ignored",
     "output_type": "error",
     "traceback": [
      "\u001b[0;31m---------------------------------------------------------------------------\u001b[0m",
      "\u001b[0;31mNameError\u001b[0m                                 Traceback (most recent call last)",
      "\u001b[0;32m<ipython-input-3-d1b83b3d7587>\u001b[0m in \u001b[0;36m<cell line: 1>\u001b[0;34m()\u001b[0m\n\u001b[0;32m----> 1\u001b[0;31m \u001b[0mdistance\u001b[0m\u001b[0;34m(\u001b[0m\u001b[0;34m'(0,-1),(-3,2)'\u001b[0m\u001b[0;34m)\u001b[0m\u001b[0;34m\u001b[0m\u001b[0;34m\u001b[0m\u001b[0m\n\u001b[0m",
      "\u001b[0;31mNameError\u001b[0m: name 'distance' is not defined"
     ]
    }
   ],
   "source": [
    "distance('(0,-1),(-3,2)')"
   ]
  },
  {
   "cell_type": "code",
   "execution_count": null,
   "metadata": {
    "id": "ObTz5xL7JdqB"
   },
   "outputs": [],
   "source": [
    "string = '(5,-5), (1,2)'"
   ]
  },
  {
   "cell_type": "code",
   "execution_count": null,
   "metadata": {
    "id": "rL3xIpCEJdqB",
    "outputId": "7981888a-6c65-4ea7-bc33-2113da769fd2"
   },
   "outputs": [
    {
     "data": {
      "text/plain": [
       "'5'"
      ]
     },
     "execution_count": 83,
     "metadata": {},
     "output_type": "execute_result"
    }
   ],
   "source": [
    "x1 = string[1]\n",
    "x1"
   ]
  },
  {
   "cell_type": "code",
   "execution_count": null,
   "metadata": {
    "id": "BTSyh-_9JdqF",
    "outputId": "15ffd58e-172a-40f5-f99d-2be8004447d7"
   },
   "outputs": [
    {
     "data": {
      "text/plain": [
       "'-'"
      ]
     },
     "execution_count": 84,
     "metadata": {},
     "output_type": "execute_result"
    }
   ],
   "source": [
    "x2 = string[3]\n",
    "x2"
   ]
  },
  {
   "cell_type": "code",
   "execution_count": null,
   "metadata": {
    "id": "AZ-uqJvvJdqG"
   },
   "outputs": [],
   "source": []
  },
  {
   "cell_type": "code",
   "execution_count": null,
   "metadata": {
    "id": "FvLIEVgJJdqG"
   },
   "outputs": [],
   "source": []
  },
  {
   "cell_type": "code",
   "execution_count": null,
   "metadata": {
    "id": "QSrhrMOvJdqH"
   },
   "outputs": [],
   "source": []
  }
 ],
 "metadata": {
  "colab": {
   "provenance": []
  },
  "kernelspec": {
   "display_name": "Python 3 (ipykernel)",
   "language": "python",
   "name": "python3"
  },
  "language_info": {
   "codemirror_mode": {
    "name": "ipython",
    "version": 3
   },
   "file_extension": ".py",
   "mimetype": "text/x-python",
   "name": "python",
   "nbconvert_exporter": "python",
   "pygments_lexer": "ipython3",
   "version": "3.11.5"
  }
 },
 "nbformat": 4,
 "nbformat_minor": 1
}
